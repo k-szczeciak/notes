{
 "cells": [
  {
   "cell_type": "markdown",
   "metadata": {},
   "source": [
    "## C1202 serial speed Test"
   ]
  },
  {
   "cell_type": "code",
   "execution_count": 1,
   "metadata": {},
   "outputs": [
    {
     "ename": "ModuleNotFoundError",
     "evalue": "No module named 'ipywidgets'",
     "output_type": "error",
     "traceback": [
      "\u001b[1;31m---------------------------------------------------------------------------\u001b[0m",
      "\u001b[1;31mModuleNotFoundError\u001b[0m                       Traceback (most recent call last)",
      "\u001b[1;32m~\\AppData\\Local\\Temp\\ipykernel_17804\\1577942918.py\u001b[0m in \u001b[0;36m<module>\u001b[1;34m\u001b[0m\n\u001b[0;32m      1\u001b[0m \u001b[1;32mimport\u001b[0m \u001b[0mserial\u001b[0m\u001b[1;33m\u001b[0m\u001b[1;33m\u001b[0m\u001b[0m\n\u001b[0;32m      2\u001b[0m \u001b[1;32mimport\u001b[0m \u001b[0mtime\u001b[0m\u001b[1;33m\u001b[0m\u001b[1;33m\u001b[0m\u001b[0m\n\u001b[1;32m----> 3\u001b[1;33m \u001b[1;32mimport\u001b[0m \u001b[0mipywidgets\u001b[0m \u001b[1;32mas\u001b[0m \u001b[0mwidgets\u001b[0m\u001b[1;33m\u001b[0m\u001b[1;33m\u001b[0m\u001b[0m\n\u001b[0m\u001b[0;32m      4\u001b[0m \u001b[1;33m\u001b[0m\u001b[0m\n\u001b[0;32m      5\u001b[0m \u001b[0mdataReq\u001b[0m \u001b[1;33m=\u001b[0m \u001b[1;34m'M1?\\r'\u001b[0m\u001b[1;33m.\u001b[0m\u001b[0mencode\u001b[0m\u001b[1;33m(\u001b[0m\u001b[1;34m'ASCII'\u001b[0m\u001b[1;33m)\u001b[0m\u001b[1;33m\u001b[0m\u001b[1;33m\u001b[0m\u001b[0m\n",
      "\u001b[1;31mModuleNotFoundError\u001b[0m: No module named 'ipywidgets'"
     ]
    }
   ],
   "source": [
    "import serial\n",
    "import time\n",
    "import ipywidgets as widgets\n",
    "\n",
    "dataReq = 'M1?\\r'.encode('ASCII')\n",
    "\n",
    "ser = serial.Serial()\n",
    "ser.baudrate = 9600\n",
    "ser.port = 'COM5'\n",
    "ser.bytesize = 7\n",
    "ser.parity = 'E'\n",
    "ser.stopbits = 2\n",
    "ser.timeout = 0\n",
    "\n",
    "def runtest(time_ms, request_qty):\n",
    "    ser.open()\n",
    "    print(\"start: \" + str(time_ms/1000) + \" s ...\")\n",
    "    for i in range(request_qty):\n",
    "        ser.write(dataReq)\n",
    "        time.sleep(time_ms/1000)\n",
    "    print(\"finished\")\n",
    "    ser.close()\n",
    "widgets.interact_manual(runtest, time_ms=widgets.FloatSlider(min=10, max=1000, step=10), request_qty=widgets.IntSlider(min=10, max=100, step=10));\n"
   ]
  }
 ],
 "metadata": {
  "kernelspec": {
   "display_name": "Python 3",
   "language": "python",
   "name": "python3"
  },
  "language_info": {
   "codemirror_mode": {
    "name": "ipython",
    "version": 3
   },
   "file_extension": ".py",
   "mimetype": "text/x-python",
   "name": "python",
   "nbconvert_exporter": "python",
   "pygments_lexer": "ipython3",
   "version": "3.7.9"
  },
  "orig_nbformat": 4,
  "vscode": {
   "interpreter": {
    "hash": "0215d9c2bea5120b49e917775fcf12f230521c2fc0862a61c9b4cbdfbcfab58e"
   }
  }
 },
 "nbformat": 4,
 "nbformat_minor": 2
}
